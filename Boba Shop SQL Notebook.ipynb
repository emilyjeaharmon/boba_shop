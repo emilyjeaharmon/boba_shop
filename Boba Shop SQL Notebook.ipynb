{
 "cells": [
  {
   "cell_type": "markdown",
   "id": "1bb8f765",
   "metadata": {},
   "source": [
    "### Boba Shop: Data Overview"
   ]
  },
  {
   "cell_type": "markdown",
   "id": "e7cee670",
   "metadata": {},
   "source": [
    "Developed db using sqlite via command line (https://www.sqlitetutorial.net/)\n",
    "\n",
    "CSVs are available for Reference:\n",
    "\n",
    "- Customers Table: Names from https://www.babycenter.com/baby-names/most-popular/top-baby-names. Additional info randomly generated.\n",
    "- MenuItems Table: Menu Items from https://www.milklabmobileorder.com/\n",
    "- Orders Table: Orders randomly generated "
   ]
  },
  {
   "cell_type": "markdown",
   "id": "34930fac",
   "metadata": {},
   "source": [
    "### DB Connection and SQL Queries\n",
    "- https://www.sqlitetutorial.net/sqlite-python/creating-database/"
   ]
  },
  {
   "cell_type": "code",
   "execution_count": 34,
   "id": "aeeb9603",
   "metadata": {},
   "outputs": [],
   "source": [
    "def create_db_connection(db_file):\n",
    "# create connection to the SQLite database\n",
    "    connection = None\n",
    "    connection = sqlite3.connect(db_file)\n",
    "    return connection\n",
    "\n",
    "def select_all_customers(connection):\n",
    "#     Query all rows in the Customers table\n",
    "    cur = connection.cursor()\n",
    "    cur.execute(\"SELECT * FROM Customers\")\n",
    "\n",
    "    rows = cur.fetchall()\n",
    "\n",
    "    for row in rows:\n",
    "        print(row)\n",
    "        \n",
    "def main():\n",
    "    database = r\"boba_shop.db\"\n",
    "\n",
    "    # create a database connection\n",
    "    connection = create_db_connection(database)\n",
    "    with connection:\n",
    "        print(\"Customers Table:\")\n",
    "        select_all_customers(connection)\n",
    "        \n",
    "import sqlite3\n",
    "main()"
   ]
  },
  {
   "cell_type": "markdown",
   "id": "f014542f",
   "metadata": {},
   "source": [
    "### SQL Query Development"
   ]
  },
  {
   "cell_type": "code",
   "execution_count": null,
   "id": "924c0259",
   "metadata": {},
   "outputs": [],
   "source": []
  }
 ],
 "metadata": {
  "kernelspec": {
   "display_name": "Python 3 (ipykernel)",
   "language": "python",
   "name": "python3"
  },
  "language_info": {
   "codemirror_mode": {
    "name": "ipython",
    "version": 3
   },
   "file_extension": ".py",
   "mimetype": "text/x-python",
   "name": "python",
   "nbconvert_exporter": "python",
   "pygments_lexer": "ipython3",
   "version": "3.10.2"
  }
 },
 "nbformat": 4,
 "nbformat_minor": 5
}
